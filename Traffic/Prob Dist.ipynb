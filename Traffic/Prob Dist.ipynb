{
 "cells": [
  {
   "cell_type": "code",
   "execution_count": 1,
   "id": "6c297e78",
   "metadata": {},
   "outputs": [],
   "source": [
    "import pandas as pd\n",
    "import numpy as np\n",
    "import pickle\n",
    "from scipy.stats import pearsonr\n",
    "import scipy as sp\n",
    "import sklearn\n",
    "from sklearn.metrics import mean_squared_error\n",
    "from sklearn.utils import resample\n",
    "from random import sample\n",
    "import random\n",
    "import csv\n",
    "import scipy\n",
    "from sklearn import preprocessing\n",
    "import matplotlib.lines as mlines\n",
    "import matplotlib.transforms as mtransforms\n",
    "import matplotlib.pyplot as plt\n",
    "from sklearn.metrics import r2_score\n",
    "\n",
    "pd.set_option('display.max_rows', 500)\n",
    "pd.set_option('display.max_columns', None)\n",
    "%matplotlib inline\n",
    "import matplotlib.pyplot as plt\n",
    "from sklearn.cluster import KMeans\n",
    "import geopandas as gpd\n",
    "from shapely.geometry import Polygon\n",
    "from shapely.geometry import box\n",
    "import matplotlib.patches as patches\n",
    "import random\n",
    "from shapely.geometry import Point\n",
    "from copy import copy\n",
    "from shapely.ops import unary_union\n",
    "import seaborn as sns"
   ]
  },
  {
   "cell_type": "code",
   "execution_count": 2,
   "id": "9e423200",
   "metadata": {},
   "outputs": [],
   "source": [
    "#create df for each cluster\n",
    "df = []\n",
    "used_cluster = [1, 2, 3, 4, 5, 6, 7]\n",
    "for cluster in used_cluster:\n",
    "    df.append(pd.read_csv(\"cluster\" + str(cluster) + \".csv\"))"
   ]
  },
  {
   "cell_type": "code",
   "execution_count": 3,
   "id": "ceb9b57f",
   "metadata": {},
   "outputs": [],
   "source": [
    "newdf = pd.concat(df)"
   ]
  },
  {
   "cell_type": "code",
   "execution_count": 5,
   "id": "0266fdc3",
   "metadata": {},
   "outputs": [
    {
     "data": {
      "text/plain": [
       "(528670, 25)"
      ]
     },
     "execution_count": 5,
     "metadata": {},
     "output_type": "execute_result"
    }
   ],
   "source": [
    "newdf.shape"
   ]
  },
  {
   "cell_type": "code",
   "execution_count": 6,
   "id": "e2f64a44",
   "metadata": {},
   "outputs": [
    {
     "data": {
      "text/html": [
       "<div>\n",
       "<style scoped>\n",
       "    .dataframe tbody tr th:only-of-type {\n",
       "        vertical-align: middle;\n",
       "    }\n",
       "\n",
       "    .dataframe tbody tr th {\n",
       "        vertical-align: top;\n",
       "    }\n",
       "\n",
       "    .dataframe thead th {\n",
       "        text-align: right;\n",
       "    }\n",
       "</style>\n",
       "<table border=\"1\" class=\"dataframe\">\n",
       "  <thead>\n",
       "    <tr style=\"text-align: right;\">\n",
       "      <th></th>\n",
       "      <th>pickup_hour</th>\n",
       "      <th>pickup_weekday</th>\n",
       "      <th>speed</th>\n",
       "    </tr>\n",
       "  </thead>\n",
       "  <tbody>\n",
       "    <tr>\n",
       "      <th>0</th>\n",
       "      <td>0</td>\n",
       "      <td>6</td>\n",
       "      <td>15.988563</td>\n",
       "    </tr>\n",
       "    <tr>\n",
       "      <th>1</th>\n",
       "      <td>0</td>\n",
       "      <td>4</td>\n",
       "      <td>20.893035</td>\n",
       "    </tr>\n",
       "    <tr>\n",
       "      <th>2</th>\n",
       "      <td>0</td>\n",
       "      <td>0</td>\n",
       "      <td>48.789521</td>\n",
       "    </tr>\n",
       "    <tr>\n",
       "      <th>3</th>\n",
       "      <td>2</td>\n",
       "      <td>6</td>\n",
       "      <td>13.767401</td>\n",
       "    </tr>\n",
       "    <tr>\n",
       "      <th>4</th>\n",
       "      <td>1</td>\n",
       "      <td>3</td>\n",
       "      <td>21.636931</td>\n",
       "    </tr>\n",
       "    <tr>\n",
       "      <th>...</th>\n",
       "      <td>...</td>\n",
       "      <td>...</td>\n",
       "      <td>...</td>\n",
       "    </tr>\n",
       "    <tr>\n",
       "      <th>210155</th>\n",
       "      <td>22</td>\n",
       "      <td>5</td>\n",
       "      <td>13.597378</td>\n",
       "    </tr>\n",
       "    <tr>\n",
       "      <th>210156</th>\n",
       "      <td>18</td>\n",
       "      <td>1</td>\n",
       "      <td>12.175659</td>\n",
       "    </tr>\n",
       "    <tr>\n",
       "      <th>210157</th>\n",
       "      <td>19</td>\n",
       "      <td>5</td>\n",
       "      <td>27.485281</td>\n",
       "    </tr>\n",
       "    <tr>\n",
       "      <th>210158</th>\n",
       "      <td>14</td>\n",
       "      <td>2</td>\n",
       "      <td>16.862383</td>\n",
       "    </tr>\n",
       "    <tr>\n",
       "      <th>210159</th>\n",
       "      <td>16</td>\n",
       "      <td>1</td>\n",
       "      <td>28.505384</td>\n",
       "    </tr>\n",
       "  </tbody>\n",
       "</table>\n",
       "<p>528670 rows × 3 columns</p>\n",
       "</div>"
      ],
      "text/plain": [
       "        pickup_hour  pickup_weekday      speed\n",
       "0                 0               6  15.988563\n",
       "1                 0               4  20.893035\n",
       "2                 0               0  48.789521\n",
       "3                 2               6  13.767401\n",
       "4                 1               3  21.636931\n",
       "...             ...             ...        ...\n",
       "210155           22               5  13.597378\n",
       "210156           18               1  12.175659\n",
       "210157           19               5  27.485281\n",
       "210158           14               2  16.862383\n",
       "210159           16               1  28.505384\n",
       "\n",
       "[528670 rows x 3 columns]"
      ]
     },
     "execution_count": 6,
     "metadata": {},
     "output_type": "execute_result"
    }
   ],
   "source": [
    "new = newdf[['pickup_hour', 'pickup_weekday', 'speed']].copy()\n",
    "new"
   ]
  },
  {
   "cell_type": "code",
   "execution_count": 7,
   "id": "6e6ab516",
   "metadata": {},
   "outputs": [
    {
     "name": "stderr",
     "output_type": "stream",
     "text": [
      "C:\\Users\\GI Maximus\\anaconda3\\envs\\advance_ml\\lib\\site-packages\\seaborn\\distributions.py:2551: FutureWarning: `distplot` is a deprecated function and will be removed in a future version. Please adapt your code to use either `displot` (a figure-level function with similar flexibility) or `histplot` (an axes-level function for histograms).\n",
      "  warnings.warn(msg, FutureWarning)\n"
     ]
    },
    {
     "data": {
      "image/png": "[encoded data removed]",
      "text/plain": [
       "<Figure size 432x288 with 1 Axes>"
      ]
     },
     "metadata": {
      "needs_background": "light"
     },
     "output_type": "display_data"
    }
   ],
   "source": [
    "ax = sns.distplot(new['speed'],\n",
    "                  bins=50,\n",
    "                  kde=True,\n",
    "                  color='green',\n",
    "                  hist_kws={\"linewidth\": 15,'alpha':1})\n",
    "ax.set(xlabel='Normal Distribution', ylabel='Frequency')\n",
    " \n",
    "plt.show()"
   ]
  },
  {
   "cell_type": "code",
   "execution_count": 16,
   "id": "12fb614f",
   "metadata": {},
   "outputs": [
    {
     "name": "stdout",
     "output_type": "stream",
     "text": [
      "1.5077340457603465\n",
      "9.767300217772348\n",
      "7.256830767879534\n"
     ]
    },
    {
     "data": {
      "image/png": "[encoded data removed]",
      "text/plain": [
       "<Figure size 432x288 with 1 Axes>"
      ]
     },
     "metadata": {
      "needs_background": "light"
     },
     "output_type": "display_data"
    }
   ],
   "source": [
    "plt.hist(new['speed'], bins=100, density=True)\n",
    "[a_fit, loc_fit, scale_fit]=scipy.stats.gamma.fit(new['speed'])\n",
    "print(a_fit)\n",
    "print(loc_fit)\n",
    "print(scale_fit)\n",
    "x = np.linspace(np.min(new['speed']), np.max(new['speed']))\n",
    "\n",
    "plt.plot(x, scipy.stats.gamma.pdf(x, a_fit, loc=loc_fit, scale=scale_fit),)\n",
    "\n",
    "plt.xlabel(\"speed\")\n",
    "\n",
    "plt.ylabel(\"Prob Dense\")\n",
    "plt.show()"
   ]
  },
  {
   "cell_type": "code",
   "execution_count": 19,
   "id": "d8e4edea",
   "metadata": {},
   "outputs": [
    {
     "data": {
      "text/plain": [
       "3743100.194003765"
      ]
     },
     "execution_count": 19,
     "metadata": {},
     "output_type": "execute_result"
    }
   ],
   "source": [
    "k = len([a_fit, loc_fit, scale_fit])\n",
    "logLik = np.sum(sp.stats.gamma.logpdf(new['speed'], [a_fit, loc_fit, scale_fit][0], loc=[a_fit, loc_fit, scale_fit][1], scale=[a_fit, loc_fit, scale_fit][2]) ) \n",
    "aic = 2*k - 2*(logLik)\n",
    "aic"
   ]
  },
  {
   "cell_type": "code",
   "execution_count": 17,
   "id": "d58fd521",
   "metadata": {},
   "outputs": [
    {
     "name": "stdout",
     "output_type": "stream",
     "text": [
      "8.710602405736786\n",
      "12.92638549316959\n"
     ]
    },
    {
     "data": {
      "image/png": "[encoded data removed]",
      "text/plain": [
       "<Figure size 432x288 with 1 Axes>"
      ]
     },
     "metadata": {
      "needs_background": "light"
     },
     "output_type": "display_data"
    }
   ],
   "source": [
    "plt.hist(new['speed'], bins=100, density=True)\n",
    "[loc_fit, scale_fit]=scipy.stats.wald.fit(new['speed'])\n",
    "print(loc_fit)\n",
    "print(scale_fit)\n",
    "x = np.linspace(np.min(new['speed']), np.max(new['speed']))\n",
    "\n",
    "plt.plot(x, scipy.stats.wald.pdf(x, loc=loc_fit, scale=scale_fit),)\n",
    "\n",
    "plt.xlabel(\"speed\")\n",
    "plt.ylabel(\"Prob Dense\")\n",
    "plt.show()"
   ]
  },
  {
   "cell_type": "code",
   "execution_count": 20,
   "id": "6f15401d",
   "metadata": {},
   "outputs": [
    {
     "data": {
      "text/plain": [
       "3589605.0271773944"
      ]
     },
     "execution_count": 20,
     "metadata": {},
     "output_type": "execute_result"
    }
   ],
   "source": [
    "k = len([loc_fit, scale_fit])\n",
    "logLik = np.sum(sp.stats.wald.logpdf(new['speed'], loc=[loc_fit, scale_fit][0], scale=[loc_fit, scale_fit][1]) ) \n",
    "aic = 2*k - 2*(logLik)\n",
    "aic\n"
   ]
  },
  {
   "cell_type": "code",
   "execution_count": 23,
   "id": "81bef1f9",
   "metadata": {},
   "outputs": [
    {
     "data": {
      "text/plain": [
       "array([ 14.42637845,  13.44150099,  20.47853108,  14.94699625,\n",
       "        12.54017623,  23.24023979,  18.79689495,  13.05503061,\n",
       "        56.75931295,  11.36450101,  15.45652005,  11.07154303,\n",
       "        15.60706562,  20.91292142,  18.98822607,  19.88974403,\n",
       "        12.97833324,  16.71702337,  14.25517129,  27.60906139,\n",
       "        18.97643802,  11.94810274,  22.27817276,  20.66048647,\n",
       "        19.35294482,  29.36637463,  20.09630886,  34.57133103,\n",
       "        10.40560276,  31.16706202,  32.30790874,  31.96347559,\n",
       "        32.67209569,  15.82267028,  13.56375081,  35.84786707,\n",
       "        19.47851956,  18.11760775,  35.40686009,  19.4296878 ,\n",
       "        14.81494977,  16.72274761,  16.30934363,  16.70809894,\n",
       "        12.63786298,  20.84007457,  17.11758449,  16.05646574,\n",
       "        52.18785402,  24.91189504,  32.38612914,  11.52550956,\n",
       "        12.76368113,  24.62406463,  16.17822407,  11.69666672,\n",
       "        29.20541186,  18.07153156,  22.74954627,  29.46805902,\n",
       "        20.34552476,  35.61549354,  21.97663526,  26.89833344,\n",
       "        15.18733938,  14.46255451,  36.69745154,  13.23907551,\n",
       "        13.1906838 ,  18.54658678,  35.57297109,  17.58028547,\n",
       "        20.71086109,  32.6165079 ,  23.98759322,  18.78500284,\n",
       "        12.32843628,  20.5443554 ,  25.57973509,  21.32866944,\n",
       "       109.68595274,  33.86570901,  19.23838468,  15.39480007,\n",
       "        25.39554819,  12.86709631,  44.0063705 ,  14.94624344,\n",
       "        17.00931781,  17.90818949,  11.48437625,  20.08184502,\n",
       "        31.18412407,  13.15225746,  20.90978898,  13.94903606,\n",
       "        19.01958354,  20.49708056,  26.82056565,  59.56286607,\n",
       "        17.27676374,  16.58744221,  18.86445697,  22.9200133 ,\n",
       "        15.87428473,  11.1916628 ,  20.25501444,  18.24735025,\n",
       "        13.26729435,  16.88416849,  17.62916301,  56.68896052,\n",
       "        14.80829281,  14.40842349,  21.43357852,  20.80489046,\n",
       "        16.76347848,  23.20175963,  12.84236893,  10.53193896,\n",
       "        13.49141281,  15.05595922,  13.16992862,  12.20230299,\n",
       "        19.08765961,  26.14581764,  16.05943325,  18.21664132,\n",
       "        15.06535244,  24.34304949,  15.25462769,  22.18833929,\n",
       "        10.98543008,  14.37612825,  34.53164947,  23.22230764,\n",
       "        16.72155827,  15.26637027,  13.07176275,  15.19859425,\n",
       "        29.6292062 ,  12.71432453,  16.64227621,  39.31116542,\n",
       "        26.69115237,  16.87270272,  18.73594097,  27.05686531,\n",
       "        20.82214698,  61.70422284,  13.14157307,  12.73224056,\n",
       "        22.67080626,  29.88287876,  14.69384228,  16.9178684 ,\n",
       "        19.12312708,  18.10602112,  18.62870335,  17.33877095,\n",
       "        73.47204598,  29.36996388,  12.0289681 ,  21.51550487,\n",
       "        14.53952077,  12.52110051,  34.3827009 ,  17.45888134,\n",
       "        16.68072656,  23.04844114,  23.49617318,  12.14556522,\n",
       "        73.19050612,  15.81290401,  18.46762757,  13.44191184,\n",
       "        14.41937113,  33.5958667 ,  19.53550288,  44.04691379,\n",
       "        16.35001584,  32.64763064,  13.77810121,  15.97367981,\n",
       "        16.52943056,  33.93930187,  14.07979844,  11.05454408,\n",
       "        14.8841581 ,  22.31569526,  10.34071548,  28.27720417,\n",
       "        14.57994944,  13.43269337,  18.01065857,  79.99664784,\n",
       "        14.04028669,  13.68140505,  11.93892416,  10.98051142,\n",
       "        11.14162514,  31.58553405,  14.31060117,  16.00912141,\n",
       "        15.16932382,  14.95338521,  17.96682509,  29.58068864,\n",
       "        77.29374571,  12.55064863,  17.4064602 ,  41.55443109,\n",
       "        17.42886305,  26.90527468,  88.65827345,  24.11636226,\n",
       "        14.61926531,  35.89092394,  33.02896566,  18.06878244,\n",
       "        16.62088751,  10.38631533,  12.58698803,  11.86171945,\n",
       "        21.86433224,  46.4333358 ,  14.55456609,  25.19181328,\n",
       "        12.24437224,  25.87037914,  17.82577365,  23.19546599,\n",
       "        19.75717168,  18.25467844,  10.64496332,  12.17031776,\n",
       "        10.29327439,  15.53537798,  14.31015361,  13.474162  ,\n",
       "        26.17618411,  32.7432675 ,  51.15221413,  16.88044675,\n",
       "        13.12890278,  16.87753418,  13.95568955,  16.20873963,\n",
       "        19.553931  ,  12.52267418,  13.08305729,  11.99810403,\n",
       "        15.30964699,  25.74943856,  18.03123514,  29.5312343 ,\n",
       "        30.12069833,  15.21601972,  14.73396729,  19.76580882,\n",
       "        14.02145442,  18.72995047,  24.91209305,  16.31619793,\n",
       "        19.74153993,  12.44863932,  28.50489135,  18.19805483,\n",
       "        26.98458131,  24.22878792,  21.1091913 ,  34.24965852,\n",
       "        18.19516922,  40.03693606,  11.46460118,  12.84184185,\n",
       "        14.80453837,  14.45465726,  18.71622628,  28.70095612,\n",
       "        16.47466196,  17.07191281,  17.24460168,  23.91687339,\n",
       "        25.11792642,  17.62925215,  12.26949071,  17.39720243,\n",
       "        31.59302802,  18.32705389,  18.02056808,  16.68207891,\n",
       "        38.2496903 ,  12.46208336,  60.98402586,  34.71500645,\n",
       "        55.51273537,  33.54831231,  20.60233719,  10.99166084,\n",
       "        29.67853123,  48.0939786 ,  15.33710884,  13.04874788,\n",
       "        17.77227521,  44.75994658,  31.73666689,  26.9780132 ,\n",
       "        20.72088598,  14.28212748,  20.27720921,  14.25014027,\n",
       "        16.27159008,  16.21829031,  60.15520547,  13.37965518,\n",
       "        17.63989648,  13.77238999,  18.35768987,  20.3401288 ,\n",
       "        20.81704422,  13.0445657 ,  10.99996409,  11.46851905,\n",
       "        16.64866721,  15.59992646,  24.06939566,  10.41367706,\n",
       "        27.49826758,  34.1263039 ,  16.63857801,  17.63886136,\n",
       "        27.14994394,  10.38484661,  88.46449518,  13.31242107,\n",
       "        15.9703034 ,  10.29318999,  18.67947403,  14.41197548,\n",
       "        17.5797901 ,  14.24405336,  13.46830148,  18.20675372,\n",
       "        16.21798591,  16.65223964,  39.18860035,  30.00270849,\n",
       "        12.96972364,  10.90097361,  21.40702589,  10.03384223,\n",
       "        18.55790374,  16.18172955,  10.06050966,  22.92086562,\n",
       "        42.3145512 ,  19.3838549 ,  12.81859735,  12.64773707,\n",
       "        12.16854572,  28.75765159,  32.71457284,  19.12084253,\n",
       "        44.54981054,  56.08591084,  12.45959479,  16.46404642,\n",
       "        17.02969722,  16.32886498,  12.16228883,  13.05000693,\n",
       "        23.43016614,  27.01753598,  12.18886831,  17.54467102,\n",
       "        15.14935892,  21.94789459,  23.51158683,  11.76468587,\n",
       "        17.29807825,  12.18480526,  13.36187571,  17.11032768,\n",
       "        13.03523994,  50.42708767,  13.80535156,  12.10285594,\n",
       "        25.03627625,  19.27760603,  26.62730016,  18.66143993,\n",
       "        10.31814816,  43.34328849,  23.44733183,  22.43289181,\n",
       "        26.25403431,  26.80083545,  12.90114309,  26.67068338,\n",
       "        31.8978183 ,  15.32949161,  15.59724409,  31.75163655,\n",
       "        34.63968191,  44.51370859,  21.75144488,  37.98787731,\n",
       "        23.8696461 ,  13.19775176,  13.49102316,  18.70638139,\n",
       "        13.56694412,  15.57756796,  40.337739  ,  13.41321425,\n",
       "        24.99927474,  16.83233423,  16.99279824,  14.43450997,\n",
       "        16.24408785,  13.16019143,  14.68823958,  13.29413656,\n",
       "        10.96250393,  10.79605242,  13.66449375,  12.30540485,\n",
       "        18.49061924,  17.82681267,  29.6758265 ,  11.83784564,\n",
       "        14.42745894,  11.41778965,  11.18613429,  13.17267699,\n",
       "        15.3150398 ,  18.54736761,  15.0386214 ,  23.30982272,\n",
       "        25.50819119,  14.82052011,  15.59185091,  28.78586599,\n",
       "        21.92504954,  24.31958734,  13.99445911,  15.4269612 ,\n",
       "        15.47070468,  13.83157879,  27.00094108,  16.06136598,\n",
       "        12.49076078,  13.51543195,  13.05995631,  17.4442553 ,\n",
       "        12.36214511,  14.50146416,  18.89540281,  11.8165071 ,\n",
       "        11.8561391 ,  49.34988936,  13.79565903,  21.2855784 ,\n",
       "        44.14823867,  21.271379  ,  15.37266841,  15.45313466,\n",
       "        16.08598093,  13.47693043,  17.59640031,  11.83508179,\n",
       "        34.00558272,  22.13551366,  12.2844709 ,  12.15414039,\n",
       "        12.55909452,  18.81503845,  20.57234495,  10.35081044,\n",
       "        11.58645613,  50.94404693,  19.19483081,  27.6562518 ,\n",
       "        23.89008738,  69.89938988,  17.59497254,  26.69580947,\n",
       "        24.74833339,  12.23653414,  14.06005228,  16.28826167,\n",
       "        18.50426822,  15.23182166,  13.67569383,  13.08548103,\n",
       "        11.78391803,  20.97227323,  23.3110026 ,  18.10208839,\n",
       "        29.3573882 ,  65.10063972,  13.28520391,  15.58365728,\n",
       "        12.82020222,  11.19801073,  36.41727155,  19.03671328,\n",
       "        16.40489015,  13.29094542,  11.27124247,  41.53327514,\n",
       "        27.22179204,  12.4817252 ,  14.58869554,  18.73591101,\n",
       "        15.87326251,  27.74614062,  33.85569575,  11.14007737,\n",
       "        13.07049812,  18.48295426,  43.19106362,  13.13353548,\n",
       "        26.92787514,  13.66889175,  21.65469668,  20.43110612,\n",
       "        11.963405  ,  14.86133063,  14.01180798,  14.54524572,\n",
       "        14.31007912,  31.23142928,  93.21483591,  42.21472495,\n",
       "        19.30099779,  11.91388918,  12.22829998,  25.26748962,\n",
       "        16.97130498,  12.09992379,  12.7790603 ,  28.01124252,\n",
       "        70.93860167,  22.10389043,  16.08554239,  22.26828063,\n",
       "        31.95043581,  13.16668994,  20.53666379,  16.33585841,\n",
       "        21.09405849,  13.84619871,  11.77786964,   9.7974634 ,\n",
       "        29.95176102,  29.56008985,  18.26715287,  16.10690383,\n",
       "        17.9205053 ,  14.16171268,  14.90772121,  11.67405097,\n",
       "        14.48071975,  81.32626909,  43.34377493,  15.62926715,\n",
       "        30.44841507,  14.27062602,  15.6101999 ,  19.95489581,\n",
       "        33.41117017,  16.55049473,  19.19878592,  41.94061286,\n",
       "        26.82669432,  10.12224495,  12.68506032,  12.24484723,\n",
       "        10.51726643,  15.21871459,  13.06013686,  13.6641795 ,\n",
       "        47.62083671,  11.1773564 ,  21.06817555,  15.85647006,\n",
       "        13.97751737,  19.30719824,  18.28933701,  62.27879484,\n",
       "        27.90348138,  18.01882109,  62.94885816,  12.01625421,\n",
       "        36.91663372,  11.11096616,  23.07273761,  10.22798679,\n",
       "        12.23549676,  18.59128653,  11.25155092,  44.19312589,\n",
       "        11.15892332,  13.67292425,  19.03818057,  15.38299082,\n",
       "        23.04807341,  11.65288184,  24.08533417,  25.63818759,\n",
       "        17.29207991,  23.1483512 ,  16.415818  ,  12.88846631,\n",
       "        37.72252344,  19.12954023,  20.23815893,  11.93000925,\n",
       "        15.87223647,  12.51038549,  11.01508015,  11.48736966,\n",
       "        53.89441655,  35.70891793,  24.53497893,  14.29925514,\n",
       "        11.72518884,  13.88545674,  14.17193734,  24.36337676,\n",
       "        18.01773649,  26.45607303,  14.66025483,  25.5024231 ,\n",
       "        17.74940928,  13.09579574,  14.31057943,  28.43747188,\n",
       "        44.37725039,  45.99243004,  24.93512247,  17.38626251,\n",
       "        10.23437328,  19.54167526,  37.7823971 ,  21.89375941,\n",
       "        20.73236712,  12.15939318,  22.72237688,  23.88258412,\n",
       "        18.33594836,  16.16848936,  19.14605953,  12.90060633,\n",
       "        14.62205255,  14.45999084,  11.78718832,  15.32437163,\n",
       "        31.62548461,  57.90761428,  17.21116451,  12.31901027,\n",
       "        10.57691183,  41.36308269,  17.98921474,  12.83892965,\n",
       "        20.06413628,  19.11017022,  18.71335929,  17.52948695,\n",
       "        13.82512748,  26.51262292,  14.02846727,  15.84084517,\n",
       "        24.5901694 ,  24.54541629,  14.89785096,  33.84830695,\n",
       "        35.65199064,  17.47732868,  37.17446135,  22.29649743,\n",
       "        43.53286733,  11.98696567,  11.38021168,  33.52696094,\n",
       "        21.40259949,  14.2216389 ,  33.01192567,  12.70173251,\n",
       "        14.69799036,  14.03139019,  32.43883525,  39.04376502,\n",
       "        27.17705161,  11.36286765,  16.74547367,  16.42455533,\n",
       "        23.63108691,  14.75159057,  19.0771126 ,  18.08881951,\n",
       "        11.04149933,  28.0858418 ,  14.97949525,  11.41692385,\n",
       "        18.54247255,  17.36599915,  70.21233573,  11.44990534,\n",
       "        16.14970943,  10.20269614,  17.76036226,  22.73982657,\n",
       "        15.4509045 ,  13.7198868 ,  30.04039333,  21.9941975 ,\n",
       "        13.87229794,  44.33480202,  55.59737838,  19.49570098,\n",
       "        19.50632926,  13.98099141,  22.85296399,  18.00147953,\n",
       "        12.21592814,  14.73844754,  25.95794284,  10.94911333,\n",
       "        28.98347738,  20.79062058,  16.97260552,  14.19041497,\n",
       "        14.75488394,  14.191763  ,  11.15607891,  16.76844792,\n",
       "        35.75113725,  17.85954337,  22.85624835,  18.91892408,\n",
       "        21.28762154,  22.78759047,  13.23188022,  21.54826252,\n",
       "        11.29739992,  47.62003049,  10.13044426,  70.33112449,\n",
       "        12.84884256,  17.94460067,  11.75689253,  21.41223383,\n",
       "        33.01630199,  12.65052138,  16.97923336,  37.78975244,\n",
       "        18.03808106,  17.12656738,  66.30763393,  11.73928519,\n",
       "        13.81842047,  15.09213787,  13.65612449,  14.47306029,\n",
       "        17.33566194,  12.12802689,  10.61473759,  12.47184877,\n",
       "        24.91140887,  23.65651519,  11.65991405,  17.15797182,\n",
       "        14.22303057,  46.09252325,  25.21723007,  20.95887284,\n",
       "        14.18933406,  23.20051721,  14.2742333 ,  11.10342444,\n",
       "        21.98625024,  26.42714158,  15.75489723,  27.74612134,\n",
       "        16.32098627,  28.46462188,  17.26887616,  30.81042046,\n",
       "        35.6937626 ,  35.20522529,  10.98968062,  16.40016142,\n",
       "        17.087355  ,  17.10797996,  12.38472158,  18.26176074,\n",
       "        15.11534918,  23.13278582,  30.30084928,  18.76684145,\n",
       "        13.12309765,  27.00588727,  18.21612486,  12.17136081,\n",
       "        14.68635057,  18.24572972,  17.82340699,  37.79620115,\n",
       "        20.41509515,  55.38827321,  37.19397871,  12.15116568,\n",
       "        12.34013959,  15.81287385,  12.63401803,  29.81253355,\n",
       "        22.91088792,  24.148559  ,  15.21471485,  66.35253811,\n",
       "        11.86219285,  11.84160901,  26.09242042,  17.61562631,\n",
       "        28.45587148,  38.2198425 ,  41.37785656,  11.64439505,\n",
       "        23.33449315,  58.59786239,  33.26874057,  11.75188506,\n",
       "        26.17202535,  29.88000459,  11.97501897,  46.47682585,\n",
       "        15.65246417,  15.26518091,  10.36145024,  10.84619643,\n",
       "        10.15456815,  18.01186819,  12.35848076,  12.27556834,\n",
       "        27.07883684,  24.57161635,  17.90648756,  66.94640104,\n",
       "        18.03342292,  14.24596641,  11.73390065,  21.10538795,\n",
       "        16.80269224,  14.54891453,  20.49714948,  26.8024218 ,\n",
       "        15.0273423 ,  18.31878829,  11.8590909 ,  18.41254485,\n",
       "        13.85360599,  12.59487664,  11.73304319,  26.69917004,\n",
       "        13.15385951,  20.18960891,  59.13256122,  20.50118654,\n",
       "        38.19274771,  30.78743038,  55.36647886,  12.41163652,\n",
       "        39.6971068 ,  25.66766595,  21.54861075,  11.78198995,\n",
       "        44.95607137,  11.39077384,  25.19821758,  20.40510256,\n",
       "        17.55159238,  11.7265275 ,  11.31377649,  13.84301756,\n",
       "        14.07391431,  16.1919604 ,  11.0822923 ,  26.43153328,\n",
       "         9.39528542,  11.71320694,  37.65991573,  27.51949495,\n",
       "        23.62882828,  13.01424736,  10.98704606,  14.2980628 ,\n",
       "        20.05623178,  23.80002426,  22.7586807 ,  19.66214245,\n",
       "        14.39914625,  26.23815802,  13.16215671,  11.42666666,\n",
       "        15.33936799,  41.29115589,  18.26785963,  14.37615965,\n",
       "        22.27933731,  17.78254559,  11.85590054,  33.61235808,\n",
       "        15.06908428,  21.25622055,  17.67201522,  30.14538357,\n",
       "        13.9949258 ,  17.70958845,  15.26233851,  12.55535254,\n",
       "        14.77451324,  16.89406257,  16.79269544,  29.50209355,\n",
       "        18.95920796,  28.33451866,  12.40043753,  18.11660943,\n",
       "        43.67254378,  17.46816307,  20.67638035,  16.96145769,\n",
       "        19.71130732,  24.50379198,  10.93001074,  11.56608846,\n",
       "        16.62122649,  28.60836759,  15.43876526,  34.61284598,\n",
       "        29.63222232,  28.68703413,  17.40389561,  54.89354911,\n",
       "        17.92570088,  17.45402636,  20.70113549,  19.38956984,\n",
       "        18.64779965,  47.24712338,  13.34423416,  30.30615506,\n",
       "        18.85638594,  16.46277699,  12.37394358,  31.56734181,\n",
       "        13.28288513,  16.67937044,  51.40360061,  20.62102229,\n",
       "        17.30254507,  15.50496893,  12.41363852,  17.33433303,\n",
       "        30.56609316,  21.88043649,  29.85191938,  29.36904632,\n",
       "        19.0265222 ,  16.67920585,  17.6484301 ,  14.27497385,\n",
       "        12.93238905,  18.96427613,  18.09740996,  18.68218531,\n",
       "        21.44647812,  40.94378927,  18.46612867,  10.41818522,\n",
       "        37.72355011,  21.80161009,  32.53434624,  27.15911193,\n",
       "        16.54797045,  14.57797436,  14.09908529,  62.0308042 ,\n",
       "        13.78769371,  21.34815197,  16.43769121,  19.95296619,\n",
       "        15.10810073,  35.7872843 ,  24.52036629,  11.20311359])"
      ]
     },
     "execution_count": 23,
     "metadata": {},
     "output_type": "execute_result"
    }
   ],
   "source": [
    "r = sp.stats.wald.rvs(loc=[loc_fit, scale_fit][0], scale=[loc_fit, scale_fit][1],size=1000)\n",
    "r"
   ]
  },
  {
   "cell_type": "code",
   "execution_count": 13,
   "id": "54544379",
   "metadata": {},
   "outputs": [
    {
     "name": "stderr",
     "output_type": "stream",
     "text": [
      "C:\\Users\\GI Maximus\\anaconda3\\envs\\advance_ml\\lib\\site-packages\\seaborn\\distributions.py:2551: FutureWarning: `distplot` is a deprecated function and will be removed in a future version. Please adapt your code to use either `displot` (a figure-level function with similar flexibility) or `histplot` (an axes-level function for histograms).\n",
      "  warnings.warn(msg, FutureWarning)\n"
     ]
    },
    {
     "data": {
      "image/png": "[encoded data removed]",
      "text/plain": [
       "<Figure size 432x288 with 1 Axes>"
      ]
     },
     "metadata": {
      "needs_background": "light"
     },
     "output_type": "display_data"
    }
   ],
   "source": [
    "ax = sns.distplot(new['pickup_hour'],\n",
    "                  bins=50,\n",
    "                  kde=True,\n",
    "                  color='green',\n",
    "                  hist_kws={\"linewidth\": 15,'alpha':1})\n",
    "ax.set(xlabel='Normal Distribution', ylabel='Frequency')\n",
    " \n",
    "plt.show()"
   ]
  },
  {
   "cell_type": "code",
   "execution_count": 14,
   "id": "a4fb79eb",
   "metadata": {},
   "outputs": [
    {
     "name": "stderr",
     "output_type": "stream",
     "text": [
      "C:\\Users\\GI Maximus\\anaconda3\\envs\\advance_ml\\lib\\site-packages\\seaborn\\distributions.py:2551: FutureWarning: `distplot` is a deprecated function and will be removed in a future version. Please adapt your code to use either `displot` (a figure-level function with similar flexibility) or `histplot` (an axes-level function for histograms).\n",
      "  warnings.warn(msg, FutureWarning)\n"
     ]
    },
    {
     "data": {
      "image/png": "[encoded data removed]",
      "text/plain": [
       "<Figure size 432x288 with 1 Axes>"
      ]
     },
     "metadata": {
      "needs_background": "light"
     },
     "output_type": "display_data"
    }
   ],
   "source": [
    "ax = sns.distplot(new['pickup_weekday'],\n",
    "                  bins=50,\n",
    "                  kde=True,\n",
    "                  color='green',\n",
    "                  hist_kws={\"linewidth\": 15,'alpha':1})\n",
    "ax.set(xlabel='Normal Distribution', ylabel='Frequency')\n",
    " \n",
    "plt.show()"
   ]
  },
  {
   "cell_type": "code",
   "execution_count": null,
   "id": "8da79a09",
   "metadata": {},
   "outputs": [],
   "source": []
  }
 ],
 "metadata": {
  "kernelspec": {
   "display_name": "Python 3 (ipykernel)",
   "language": "python",
   "name": "python3"
  },
  "language_info": {
   "codemirror_mode": {
    "name": "ipython",
    "version": 3
   },
   "file_extension": ".py",
   "mimetype": "text/x-python",
   "name": "python",
   "nbconvert_exporter": "python",
   "pygments_lexer": "ipython3",
   "version": "3.9.7"
  }
 },
 "nbformat": 4,
 "nbformat_minor": 5
}
