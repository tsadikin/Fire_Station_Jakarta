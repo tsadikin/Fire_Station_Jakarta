{
 "cells": [
  {
   "cell_type": "code",
   "execution_count": 2,
   "id": "fced108d",
   "metadata": {},
   "outputs": [
    {
     "name": "stdout",
     "output_type": "stream",
     "text": [
      "Requirement already satisfied: scikit-learn==0.22 in c:\\users\\gi maximus\\anaconda3\\envs\\sph\\lib\\site-packages (0.22)\n",
      "Requirement already satisfied: scipy>=0.17.0 in c:\\users\\gi maximus\\anaconda3\\envs\\sph\\lib\\site-packages (from scikit-learn==0.22) (1.7.3)\n",
      "Requirement already satisfied: numpy>=1.11.0 in c:\\users\\gi maximus\\anaconda3\\envs\\sph\\lib\\site-packages (from scikit-learn==0.22) (1.21.6)\n",
      "Requirement already satisfied: joblib>=0.11 in c:\\users\\gi maximus\\anaconda3\\envs\\sph\\lib\\site-packages (from scikit-learn==0.22) (1.2.0)\n",
      "Note: you may need to restart the kernel to use updated packages.\n"
     ]
    }
   ],
   "source": [
    "pip install scikit-learn==0.22"
   ]
  },
  {
   "cell_type": "code",
   "execution_count": 1,
   "id": "2b187b45",
   "metadata": {},
   "outputs": [
    {
     "ename": "ModuleNotFoundError",
     "evalue": "No module named 'sklearn.cluster.KMeans'",
     "output_type": "error",
     "traceback": [
      "\u001b[1;31m---------------------------------------------------------------------------\u001b[0m",
      "\u001b[1;31mModuleNotFoundError\u001b[0m                       Traceback (most recent call last)",
      "Input \u001b[1;32mIn [1]\u001b[0m, in \u001b[0;36m<cell line: 31>\u001b[1;34m()\u001b[0m\n\u001b[0;32m     29\u001b[0m \u001b[38;5;28;01mfrom\u001b[39;00m \u001b[38;5;21;01mcopy\u001b[39;00m \u001b[38;5;28;01mimport\u001b[39;00m copy\n\u001b[0;32m     30\u001b[0m \u001b[38;5;28;01mfrom\u001b[39;00m \u001b[38;5;21;01mshapely\u001b[39;00m\u001b[38;5;21;01m.\u001b[39;00m\u001b[38;5;21;01mops\u001b[39;00m \u001b[38;5;28;01mimport\u001b[39;00m unary_union\n\u001b[1;32m---> 31\u001b[0m \u001b[38;5;28;01mfrom\u001b[39;00m \u001b[38;5;21;01mspherecluster\u001b[39;00m \u001b[38;5;28;01mimport\u001b[39;00m SphericalKMeans\n\u001b[0;32m     32\u001b[0m \u001b[38;5;28;01mfrom\u001b[39;00m \u001b[38;5;21;01mspherecluster\u001b[39;00m \u001b[38;5;28;01mimport\u001b[39;00m VonMisesFisherMixture\n\u001b[0;32m     33\u001b[0m \u001b[38;5;28;01mfrom\u001b[39;00m \u001b[38;5;21;01mspherecluster\u001b[39;00m \u001b[38;5;28;01mimport\u001b[39;00m sample_vMF\n",
      "File \u001b[1;32m~\\anaconda3\\envs\\advance_ml\\lib\\site-packages\\spherecluster\\__init__.py:2\u001b[0m, in \u001b[0;36m<module>\u001b[1;34m\u001b[0m\n\u001b[0;32m      1\u001b[0m \u001b[38;5;28;01mfrom\u001b[39;00m \u001b[38;5;21;01m__future__\u001b[39;00m \u001b[38;5;28;01mimport\u001b[39;00m absolute_import\n\u001b[1;32m----> 2\u001b[0m \u001b[38;5;28;01mfrom\u001b[39;00m \u001b[38;5;21;01m.\u001b[39;00m\u001b[38;5;21;01mspherical_kmeans\u001b[39;00m \u001b[38;5;28;01mimport\u001b[39;00m SphericalKMeans\n\u001b[0;32m      3\u001b[0m \u001b[38;5;28;01mfrom\u001b[39;00m \u001b[38;5;21;01m.\u001b[39;00m\u001b[38;5;21;01mvon_mises_fisher_mixture\u001b[39;00m \u001b[38;5;28;01mimport\u001b[39;00m VonMisesFisherMixture\n\u001b[0;32m      4\u001b[0m \u001b[38;5;28;01mfrom\u001b[39;00m \u001b[38;5;21;01m.\u001b[39;00m\u001b[38;5;21;01mutil\u001b[39;00m \u001b[38;5;28;01mimport\u001b[39;00m sample_vMF\n",
      "File \u001b[1;32m~\\anaconda3\\envs\\advance_ml\\lib\\site-packages\\spherecluster\\spherical_kmeans.py:7\u001b[0m, in \u001b[0;36m<module>\u001b[1;34m\u001b[0m\n\u001b[0;32m      4\u001b[0m \u001b[38;5;28;01mimport\u001b[39;00m \u001b[38;5;21;01mscipy\u001b[39;00m\u001b[38;5;21;01m.\u001b[39;00m\u001b[38;5;21;01msparse\u001b[39;00m \u001b[38;5;28;01mas\u001b[39;00m \u001b[38;5;21;01msp\u001b[39;00m\n\u001b[0;32m      6\u001b[0m \u001b[38;5;28;01mfrom\u001b[39;00m \u001b[38;5;21;01msklearn\u001b[39;00m\u001b[38;5;21;01m.\u001b[39;00m\u001b[38;5;21;01mcluster\u001b[39;00m \u001b[38;5;28;01mimport\u001b[39;00m KMeans\n\u001b[1;32m----> 7\u001b[0m \u001b[38;5;28;01mfrom\u001b[39;00m \u001b[38;5;21;01msklearn\u001b[39;00m\u001b[38;5;21;01m.\u001b[39;00m\u001b[38;5;21;01mcluster\u001b[39;00m\u001b[38;5;21;01m.\u001b[39;00m\u001b[38;5;21;01mKMeans\u001b[39;00m \u001b[38;5;28;01mimport\u001b[39;00m (\n\u001b[0;32m      8\u001b[0m     _check_sample_weight,\n\u001b[0;32m      9\u001b[0m     _init_centroids, \n\u001b[0;32m     10\u001b[0m     _labels_inertia, \n\u001b[0;32m     11\u001b[0m     _tolerance, \n\u001b[0;32m     12\u001b[0m     _validate_center_shape,\n\u001b[0;32m     13\u001b[0m )\n\u001b[0;32m     14\u001b[0m \u001b[38;5;28;01mfrom\u001b[39;00m \u001b[38;5;21;01msklearn\u001b[39;00m\u001b[38;5;21;01m.\u001b[39;00m\u001b[38;5;21;01mutils\u001b[39;00m \u001b[38;5;28;01mimport\u001b[39;00m check_array, check_random_state\n\u001b[0;32m     15\u001b[0m \u001b[38;5;28;01mfrom\u001b[39;00m \u001b[38;5;21;01msklearn\u001b[39;00m\u001b[38;5;21;01m.\u001b[39;00m\u001b[38;5;21;01mutils\u001b[39;00m\u001b[38;5;21;01m.\u001b[39;00m\u001b[38;5;21;01mvalidation\u001b[39;00m \u001b[38;5;28;01mimport\u001b[39;00m _num_samples\n",
      "\u001b[1;31mModuleNotFoundError\u001b[0m: No module named 'sklearn.cluster.KMeans'"
     ]
    }
   ],
   "source": [
    "import pandas as pd\n",
    "import numpy as np\n",
    "import pickle\n",
    "from scipy.stats import pearsonr\n",
    "import scipy as sp\n",
    "import sklearn\n",
    "from sklearn.metrics import mean_squared_error\n",
    "from sklearn.utils import resample\n",
    "from random import sample\n",
    "import random\n",
    "import csv\n",
    "import scipy\n",
    "from sklearn import preprocessing\n",
    "import matplotlib.lines as mlines\n",
    "import matplotlib.transforms as mtransforms\n",
    "import matplotlib.pyplot as plt\n",
    "from sklearn.metrics import r2_score\n",
    "\n",
    "pd.set_option('display.max_rows', 500)\n",
    "pd.set_option('display.max_columns', None)\n",
    "%matplotlib inline\n",
    "import matplotlib.pyplot as plt\n",
    "from sklearn.cluster import KMeans\n",
    "from shapely.geometry import Polygon\n",
    "from shapely.geometry import box\n",
    "import matplotlib.patches as patches\n",
    "import random\n",
    "from shapely.geometry import Point\n",
    "from copy import copy\n",
    "from shapely.ops import unary_union\n",
    "from spherecluster import SphericalKMeans\n",
    "from spherecluster import VonMisesFisherMixture\n",
    "from spherecluster import sample_vMF"
   ]
  },
  {
   "cell_type": "code",
   "execution_count": 3,
   "id": "6f376345",
   "metadata": {},
   "outputs": [],
   "source": [
    "#create df for each cluster\n",
    "df = []\n",
    "used_cluster = [0, 1, 2, 3, 4, 5, 6, 7]\n",
    "for cluster in used_cluster:\n",
    "    df.append(pd.read_csv(\"cluster\" + str(cluster) + \".csv\"))"
   ]
  },
  {
   "cell_type": "code",
   "execution_count": 4,
   "id": "d3159bcb",
   "metadata": {},
   "outputs": [],
   "source": [
    "for dataframe in range(len(df)):#\n",
    "    del df[dataframe][\"store_and_fwd_flag\"]"
   ]
  },
  {
   "cell_type": "code",
   "execution_count": 5,
   "id": "f231d7f8",
   "metadata": {},
   "outputs": [],
   "source": [
    "newdf = pd.concat(df)"
   ]
  },
  {
   "cell_type": "code",
   "execution_count": 6,
   "id": "126c7809",
   "metadata": {},
   "outputs": [
    {
     "data": {
      "text/plain": [
       "(872712, 24)"
      ]
     },
     "execution_count": 6,
     "metadata": {},
     "output_type": "execute_result"
    }
   ],
   "source": [
    "newdf.shape"
   ]
  },
  {
   "cell_type": "code",
   "execution_count": 7,
   "id": "cfae15f0",
   "metadata": {},
   "outputs": [
    {
     "data": {
      "text/html": [
       "<div>\n",
       "<style scoped>\n",
       "    .dataframe tbody tr th:only-of-type {\n",
       "        vertical-align: middle;\n",
       "    }\n",
       "\n",
       "    .dataframe tbody tr th {\n",
       "        vertical-align: top;\n",
       "    }\n",
       "\n",
       "    .dataframe thead th {\n",
       "        text-align: right;\n",
       "    }\n",
       "</style>\n",
       "<table border=\"1\" class=\"dataframe\">\n",
       "  <thead>\n",
       "    <tr style=\"text-align: right;\">\n",
       "      <th></th>\n",
       "      <th>pickup_hour</th>\n",
       "      <th>pickup_weekday</th>\n",
       "      <th>speed</th>\n",
       "    </tr>\n",
       "  </thead>\n",
       "  <tbody>\n",
       "    <tr>\n",
       "      <th>0</th>\n",
       "      <td>17</td>\n",
       "      <td>0</td>\n",
       "      <td>17.473990</td>\n",
       "    </tr>\n",
       "    <tr>\n",
       "      <th>1</th>\n",
       "      <td>19</td>\n",
       "      <td>2</td>\n",
       "      <td>13.699215</td>\n",
       "    </tr>\n",
       "    <tr>\n",
       "      <th>2</th>\n",
       "      <td>22</td>\n",
       "      <td>5</td>\n",
       "      <td>14.717902</td>\n",
       "    </tr>\n",
       "    <tr>\n",
       "      <th>3</th>\n",
       "      <td>23</td>\n",
       "      <td>4</td>\n",
       "      <td>29.913317</td>\n",
       "    </tr>\n",
       "    <tr>\n",
       "      <th>4</th>\n",
       "      <td>21</td>\n",
       "      <td>3</td>\n",
       "      <td>17.483443</td>\n",
       "    </tr>\n",
       "    <tr>\n",
       "      <th>...</th>\n",
       "      <td>...</td>\n",
       "      <td>...</td>\n",
       "      <td>...</td>\n",
       "    </tr>\n",
       "    <tr>\n",
       "      <th>210155</th>\n",
       "      <td>22</td>\n",
       "      <td>5</td>\n",
       "      <td>13.597378</td>\n",
       "    </tr>\n",
       "    <tr>\n",
       "      <th>210156</th>\n",
       "      <td>18</td>\n",
       "      <td>1</td>\n",
       "      <td>12.175659</td>\n",
       "    </tr>\n",
       "    <tr>\n",
       "      <th>210157</th>\n",
       "      <td>19</td>\n",
       "      <td>5</td>\n",
       "      <td>27.485281</td>\n",
       "    </tr>\n",
       "    <tr>\n",
       "      <th>210158</th>\n",
       "      <td>14</td>\n",
       "      <td>2</td>\n",
       "      <td>16.862383</td>\n",
       "    </tr>\n",
       "    <tr>\n",
       "      <th>210159</th>\n",
       "      <td>16</td>\n",
       "      <td>1</td>\n",
       "      <td>28.505384</td>\n",
       "    </tr>\n",
       "  </tbody>\n",
       "</table>\n",
       "<p>872712 rows × 3 columns</p>\n",
       "</div>"
      ],
      "text/plain": [
       "        pickup_hour  pickup_weekday      speed\n",
       "0                17               0  17.473990\n",
       "1                19               2  13.699215\n",
       "2                22               5  14.717902\n",
       "3                23               4  29.913317\n",
       "4                21               3  17.483443\n",
       "...             ...             ...        ...\n",
       "210155           22               5  13.597378\n",
       "210156           18               1  12.175659\n",
       "210157           19               5  27.485281\n",
       "210158           14               2  16.862383\n",
       "210159           16               1  28.505384\n",
       "\n",
       "[872712 rows x 3 columns]"
      ]
     },
     "execution_count": 7,
     "metadata": {},
     "output_type": "execute_result"
    }
   ],
   "source": [
    "new = newdf[['pickup_hour', 'pickup_weekday', 'speed']].copy()\n",
    "new"
   ]
  },
  {
   "cell_type": "code",
   "execution_count": 8,
   "id": "cd17cda9",
   "metadata": {},
   "outputs": [
    {
     "name": "stdout",
     "output_type": "stream",
     "text": [
      "<class 'pandas.core.frame.DataFrame'>\n",
      "Int64Index: 872712 entries, 0 to 210159\n",
      "Data columns (total 3 columns):\n",
      " #   Column          Non-Null Count   Dtype  \n",
      "---  ------          --------------   -----  \n",
      " 0   pickup_hour     872712 non-null  int64  \n",
      " 1   pickup_weekday  872712 non-null  int64  \n",
      " 2   speed           872712 non-null  float64\n",
      "dtypes: float64(1), int64(2)\n",
      "memory usage: 26.6 MB\n"
     ]
    }
   ],
   "source": [
    "new.info()"
   ]
  },
  {
   "cell_type": "code",
   "execution_count": 9,
   "id": "3eb38f71",
   "metadata": {},
   "outputs": [
    {
     "data": {
      "text/html": [
       "<div>\n",
       "<style scoped>\n",
       "    .dataframe tbody tr th:only-of-type {\n",
       "        vertical-align: middle;\n",
       "    }\n",
       "\n",
       "    .dataframe tbody tr th {\n",
       "        vertical-align: top;\n",
       "    }\n",
       "\n",
       "    .dataframe thead th {\n",
       "        text-align: right;\n",
       "    }\n",
       "</style>\n",
       "<table border=\"1\" class=\"dataframe\">\n",
       "  <thead>\n",
       "    <tr style=\"text-align: right;\">\n",
       "      <th></th>\n",
       "      <th>pickup_hour</th>\n",
       "      <th>pickup_weekday</th>\n",
       "      <th>speed</th>\n",
       "    </tr>\n",
       "  </thead>\n",
       "  <tbody>\n",
       "    <tr>\n",
       "      <th>0</th>\n",
       "      <td>17</td>\n",
       "      <td>1</td>\n",
       "      <td>17.473990</td>\n",
       "    </tr>\n",
       "    <tr>\n",
       "      <th>1</th>\n",
       "      <td>19</td>\n",
       "      <td>3</td>\n",
       "      <td>13.699215</td>\n",
       "    </tr>\n",
       "    <tr>\n",
       "      <th>2</th>\n",
       "      <td>22</td>\n",
       "      <td>6</td>\n",
       "      <td>14.717902</td>\n",
       "    </tr>\n",
       "    <tr>\n",
       "      <th>3</th>\n",
       "      <td>23</td>\n",
       "      <td>5</td>\n",
       "      <td>29.913317</td>\n",
       "    </tr>\n",
       "    <tr>\n",
       "      <th>4</th>\n",
       "      <td>21</td>\n",
       "      <td>4</td>\n",
       "      <td>17.483443</td>\n",
       "    </tr>\n",
       "    <tr>\n",
       "      <th>...</th>\n",
       "      <td>...</td>\n",
       "      <td>...</td>\n",
       "      <td>...</td>\n",
       "    </tr>\n",
       "    <tr>\n",
       "      <th>210155</th>\n",
       "      <td>22</td>\n",
       "      <td>6</td>\n",
       "      <td>13.597378</td>\n",
       "    </tr>\n",
       "    <tr>\n",
       "      <th>210156</th>\n",
       "      <td>18</td>\n",
       "      <td>2</td>\n",
       "      <td>12.175659</td>\n",
       "    </tr>\n",
       "    <tr>\n",
       "      <th>210157</th>\n",
       "      <td>19</td>\n",
       "      <td>6</td>\n",
       "      <td>27.485281</td>\n",
       "    </tr>\n",
       "    <tr>\n",
       "      <th>210158</th>\n",
       "      <td>14</td>\n",
       "      <td>3</td>\n",
       "      <td>16.862383</td>\n",
       "    </tr>\n",
       "    <tr>\n",
       "      <th>210159</th>\n",
       "      <td>16</td>\n",
       "      <td>2</td>\n",
       "      <td>28.505384</td>\n",
       "    </tr>\n",
       "  </tbody>\n",
       "</table>\n",
       "<p>872712 rows × 3 columns</p>\n",
       "</div>"
      ],
      "text/plain": [
       "        pickup_hour  pickup_weekday      speed\n",
       "0                17               1  17.473990\n",
       "1                19               3  13.699215\n",
       "2                22               6  14.717902\n",
       "3                23               5  29.913317\n",
       "4                21               4  17.483443\n",
       "...             ...             ...        ...\n",
       "210155           22               6  13.597378\n",
       "210156           18               2  12.175659\n",
       "210157           19               6  27.485281\n",
       "210158           14               3  16.862383\n",
       "210159           16               2  28.505384\n",
       "\n",
       "[872712 rows x 3 columns]"
      ]
     },
     "execution_count": 9,
     "metadata": {},
     "output_type": "execute_result"
    }
   ],
   "source": [
    "new['pickup_weekday'] += 1\n",
    "new"
   ]
  },
  {
   "cell_type": "code",
   "execution_count": 10,
   "id": "5b12f5f4",
   "metadata": {},
   "outputs": [],
   "source": [
    "new['pickup_hour'] = new['pickup_hour'].replace(0, 24)"
   ]
  },
  {
   "cell_type": "code",
   "execution_count": 11,
   "id": "eb26a5e0",
   "metadata": {},
   "outputs": [
    {
     "data": {
      "text/plain": [
       "array([[17.        ,  1.        , 17.4739901 ],\n",
       "       [19.        ,  3.        , 13.69921496],\n",
       "       [22.        ,  6.        , 14.71790244],\n",
       "       ...,\n",
       "       [19.        ,  6.        , 27.48528089],\n",
       "       [14.        ,  3.        , 16.86238251],\n",
       "       [16.        ,  2.        , 28.50538397]])"
      ]
     },
     "execution_count": 11,
     "metadata": {},
     "output_type": "execute_result"
    }
   ],
   "source": [
    "newar = new.to_numpy()\n",
    "newar"
   ]
  },
  {
   "cell_type": "code",
   "execution_count": 12,
   "id": "473309d8",
   "metadata": {},
   "outputs": [],
   "source": [
    "skm = SphericalKMeans(n_clusters=5)"
   ]
  },
  {
   "cell_type": "code",
   "execution_count": 13,
   "id": "fe8d8ba9",
   "metadata": {},
   "outputs": [
    {
     "data": {
      "text/plain": [
       "SphericalKMeans(copy_x=True, init='k-means++', max_iter=300, n_clusters=5,\n",
       "                n_init=10, n_jobs=1, normalize=True, random_state=None,\n",
       "                tol=0.0001, verbose=0)"
      ]
     },
     "execution_count": 13,
     "metadata": {},
     "output_type": "execute_result"
    }
   ],
   "source": [
    "skm.fit(newar)"
   ]
  },
  {
   "cell_type": "code",
   "execution_count": 14,
   "id": "3b37c28e",
   "metadata": {},
   "outputs": [],
   "source": [
    "news = new.assign(cluster=skm.labels_)"
   ]
  },
  {
   "cell_type": "code",
   "execution_count": 18,
   "id": "41d7c7c3",
   "metadata": {},
   "outputs": [],
   "source": [
    "data0 = news[news.cluster==0]\n",
    "data1 = news[news.cluster==1]\n",
    "data2 = news[news.cluster==2]\n",
    "data3 = news[news.cluster==3]\n",
    "data4 = news[news.cluster==4]\n",
    "alld = [data0, data1, data2]"
   ]
  },
  {
   "cell_type": "code",
   "execution_count": 16,
   "id": "6af67a29",
   "metadata": {},
   "outputs": [
    {
     "ename": "NameError",
     "evalue": "name 'k_means_optimum' is not defined",
     "output_type": "error",
     "traceback": [
      "\u001b[1;31m---------------------------------------------------------------------------\u001b[0m",
      "\u001b[1;31mNameError\u001b[0m                                 Traceback (most recent call last)",
      "\u001b[1;32m~\\AppData\\Local\\Temp\\ipykernel_35144\\2601256251.py\u001b[0m in \u001b[0;36m<module>\u001b[1;34m\u001b[0m\n\u001b[0;32m     10\u001b[0m \u001b[0mkplot\u001b[0m\u001b[1;33m.\u001b[0m\u001b[0mscatter3D\u001b[0m\u001b[1;33m(\u001b[0m\u001b[0mdata4\u001b[0m\u001b[1;33m.\u001b[0m\u001b[0mpickup_hour\u001b[0m\u001b[1;33m,\u001b[0m \u001b[0mdata4\u001b[0m\u001b[1;33m.\u001b[0m\u001b[0mpickup_weekday\u001b[0m\u001b[1;33m,\u001b[0m \u001b[0mdata4\u001b[0m\u001b[1;33m.\u001b[0m\u001b[0mspeed\u001b[0m\u001b[1;33m,\u001b[0m \u001b[0mc\u001b[0m\u001b[1;33m=\u001b[0m\u001b[1;34m'blue'\u001b[0m\u001b[1;33m,\u001b[0m \u001b[0mlabel\u001b[0m \u001b[1;33m=\u001b[0m \u001b[1;34m'Cluster 4'\u001b[0m\u001b[1;33m)\u001b[0m\u001b[1;33m\u001b[0m\u001b[1;33m\u001b[0m\u001b[0m\n\u001b[0;32m     11\u001b[0m \u001b[0mkplot\u001b[0m\u001b[1;33m.\u001b[0m\u001b[0mscatter3D\u001b[0m\u001b[1;33m(\u001b[0m\u001b[0mdata5\u001b[0m\u001b[1;33m.\u001b[0m\u001b[0mpickup_hour\u001b[0m\u001b[1;33m,\u001b[0m \u001b[0mdata5\u001b[0m\u001b[1;33m.\u001b[0m\u001b[0mpickup_weekday\u001b[0m\u001b[1;33m,\u001b[0m \u001b[0mdata5\u001b[0m\u001b[1;33m.\u001b[0m\u001b[0mspeed\u001b[0m\u001b[1;33m,\u001b[0m \u001b[0mc\u001b[0m\u001b[1;33m=\u001b[0m\u001b[1;34m'black'\u001b[0m\u001b[1;33m,\u001b[0m \u001b[0mlabel\u001b[0m \u001b[1;33m=\u001b[0m \u001b[1;34m'Cluster 5'\u001b[0m\u001b[1;33m)\u001b[0m\u001b[1;33m\u001b[0m\u001b[1;33m\u001b[0m\u001b[0m\n\u001b[1;32m---> 12\u001b[1;33m \u001b[0mplt\u001b[0m\u001b[1;33m.\u001b[0m\u001b[0mscatter\u001b[0m\u001b[1;33m(\u001b[0m\u001b[0mk_means_optimum\u001b[0m\u001b[1;33m.\u001b[0m\u001b[0mcluster_centers_\u001b[0m\u001b[1;33m[\u001b[0m\u001b[1;33m:\u001b[0m\u001b[1;33m,\u001b[0m\u001b[1;36m0\u001b[0m\u001b[1;33m]\u001b[0m\u001b[1;33m,\u001b[0m \u001b[0mk_means_optimum\u001b[0m\u001b[1;33m.\u001b[0m\u001b[0mcluster_centers_\u001b[0m\u001b[1;33m[\u001b[0m\u001b[1;33m:\u001b[0m\u001b[1;33m,\u001b[0m\u001b[1;36m1\u001b[0m\u001b[1;33m]\u001b[0m\u001b[1;33m,\u001b[0m \u001b[0mcolor\u001b[0m \u001b[1;33m=\u001b[0m \u001b[1;34m'indigo'\u001b[0m\u001b[1;33m,\u001b[0m \u001b[0ms\u001b[0m \u001b[1;33m=\u001b[0m \u001b[1;36m200\u001b[0m\u001b[1;33m)\u001b[0m\u001b[1;33m\u001b[0m\u001b[1;33m\u001b[0m\u001b[0m\n\u001b[0m\u001b[0;32m     13\u001b[0m \u001b[0mplt\u001b[0m\u001b[1;33m.\u001b[0m\u001b[0mlegend\u001b[0m\u001b[1;33m(\u001b[0m\u001b[1;33m)\u001b[0m\u001b[1;33m\u001b[0m\u001b[1;33m\u001b[0m\u001b[0m\n\u001b[0;32m     14\u001b[0m \u001b[0mplt\u001b[0m\u001b[1;33m.\u001b[0m\u001b[0mtitle\u001b[0m\u001b[1;33m(\u001b[0m\u001b[1;34m\"Kmeans\"\u001b[0m\u001b[1;33m)\u001b[0m\u001b[1;33m\u001b[0m\u001b[1;33m\u001b[0m\u001b[0m\n",
      "\u001b[1;31mNameError\u001b[0m: name 'k_means_optimum' is not defined"
     ]
    },
    {
     "data": {
      "image/png": "[encoded data removed]",
      "text/plain": [
       "<Figure size 640x480 with 1 Axes>"
      ]
     },
     "metadata": {},
     "output_type": "display_data"
    }
   ],
   "source": [
    "kplot = plt.axes(projection='3d')\n",
    "xline = np.linspace(0, 15, 1000)\n",
    "yline = np.linspace(0, 15, 1000)\n",
    "zline = np.linspace(0, 15, 1000)\n",
    "kplot.plot3D(xline, yline, zline, 'black') \n",
    "# Data for three-dimensional scattered points\n",
    "kplot.scatter3D(data1.pickup_hour, data1.pickup_weekday, data1.speed, c='red', label = 'Cluster 1')\n",
    "kplot.scatter3D(data2.pickup_hour, data2.pickup_weekday, data2.speed,c ='green', label = 'Cluster 2')\n",
    "kplot.scatter3D(data3.pickup_hour, data3.pickup_weekday, data3.speed, c='orange', label = 'Cluster 3')\n",
    "kplot.scatter3D(data4.pickup_hour, data4.pickup_weekday, data4.speed, c='blue', label = 'Cluster 4')\n",
    "kplot.scatter3D(data5.pickup_hour, data5.pickup_weekday, data5.speed, c='black', label = 'Cluster 5')\n",
    "plt.legend()\n",
    "plt.title(\"Kmeans\")\n",
    "plt.xlabel(\"x-label\")\n",
    "plt.ylabel(\"y-label\")\n",
    "plt.show()"
   ]
  },
  {
   "cell_type": "code",
   "execution_count": 21,
   "id": "ffebe583",
   "metadata": {},
   "outputs": [
    {
     "data": {
      "text/html": [
       "<div>\n",
       "<style scoped>\n",
       "    .dataframe tbody tr th:only-of-type {\n",
       "        vertical-align: middle;\n",
       "    }\n",
       "\n",
       "    .dataframe tbody tr th {\n",
       "        vertical-align: top;\n",
       "    }\n",
       "\n",
       "    .dataframe thead th {\n",
       "        text-align: right;\n",
       "    }\n",
       "</style>\n",
       "<table border=\"1\" class=\"dataframe\">\n",
       "  <thead>\n",
       "    <tr style=\"text-align: right;\">\n",
       "      <th></th>\n",
       "      <th>pickup_hour</th>\n",
       "      <th>pickup_weekday</th>\n",
       "      <th>speed</th>\n",
       "      <th>cluster</th>\n",
       "    </tr>\n",
       "  </thead>\n",
       "  <tbody>\n",
       "    <tr>\n",
       "      <th>0</th>\n",
       "      <td>17</td>\n",
       "      <td>1</td>\n",
       "      <td>17.473990</td>\n",
       "      <td>2</td>\n",
       "    </tr>\n",
       "    <tr>\n",
       "      <th>1</th>\n",
       "      <td>19</td>\n",
       "      <td>3</td>\n",
       "      <td>13.699215</td>\n",
       "      <td>0</td>\n",
       "    </tr>\n",
       "    <tr>\n",
       "      <th>2</th>\n",
       "      <td>22</td>\n",
       "      <td>6</td>\n",
       "      <td>14.717902</td>\n",
       "      <td>0</td>\n",
       "    </tr>\n",
       "    <tr>\n",
       "      <th>3</th>\n",
       "      <td>23</td>\n",
       "      <td>5</td>\n",
       "      <td>29.913317</td>\n",
       "      <td>2</td>\n",
       "    </tr>\n",
       "    <tr>\n",
       "      <th>4</th>\n",
       "      <td>21</td>\n",
       "      <td>4</td>\n",
       "      <td>17.483443</td>\n",
       "      <td>0</td>\n",
       "    </tr>\n",
       "    <tr>\n",
       "      <th>...</th>\n",
       "      <td>...</td>\n",
       "      <td>...</td>\n",
       "      <td>...</td>\n",
       "      <td>...</td>\n",
       "    </tr>\n",
       "    <tr>\n",
       "      <th>210155</th>\n",
       "      <td>22</td>\n",
       "      <td>6</td>\n",
       "      <td>13.597378</td>\n",
       "      <td>0</td>\n",
       "    </tr>\n",
       "    <tr>\n",
       "      <th>210156</th>\n",
       "      <td>18</td>\n",
       "      <td>2</td>\n",
       "      <td>12.175659</td>\n",
       "      <td>0</td>\n",
       "    </tr>\n",
       "    <tr>\n",
       "      <th>210157</th>\n",
       "      <td>19</td>\n",
       "      <td>6</td>\n",
       "      <td>27.485281</td>\n",
       "      <td>1</td>\n",
       "    </tr>\n",
       "    <tr>\n",
       "      <th>210158</th>\n",
       "      <td>14</td>\n",
       "      <td>3</td>\n",
       "      <td>16.862383</td>\n",
       "      <td>2</td>\n",
       "    </tr>\n",
       "    <tr>\n",
       "      <th>210159</th>\n",
       "      <td>16</td>\n",
       "      <td>2</td>\n",
       "      <td>28.505384</td>\n",
       "      <td>4</td>\n",
       "    </tr>\n",
       "  </tbody>\n",
       "</table>\n",
       "<p>872712 rows × 4 columns</p>\n",
       "</div>"
      ],
      "text/plain": [
       "        pickup_hour  pickup_weekday      speed  cluster\n",
       "0                17               1  17.473990        2\n",
       "1                19               3  13.699215        0\n",
       "2                22               6  14.717902        0\n",
       "3                23               5  29.913317        2\n",
       "4                21               4  17.483443        0\n",
       "...             ...             ...        ...      ...\n",
       "210155           22               6  13.597378        0\n",
       "210156           18               2  12.175659        0\n",
       "210157           19               6  27.485281        1\n",
       "210158           14               3  16.862383        2\n",
       "210159           16               2  28.505384        4\n",
       "\n",
       "[872712 rows x 4 columns]"
      ]
     },
     "execution_count": 21,
     "metadata": {},
     "output_type": "execute_result"
    }
   ],
   "source": [
    "news"
   ]
  },
  {
   "cell_type": "code",
   "execution_count": 22,
   "id": "1fa8d0b6",
   "metadata": {},
   "outputs": [],
   "source": [
    "news.to_csv('spherical.csv')"
   ]
  },
  {
   "cell_type": "code",
   "execution_count": null,
   "id": "cd474124",
   "metadata": {},
   "outputs": [],
   "source": []
  }
 ],
 "metadata": {
  "kernelspec": {
   "display_name": "Python 3 (ipykernel)",
   "language": "python",
   "name": "python3"
  },
  "language_info": {
   "codemirror_mode": {
    "name": "ipython",
    "version": 3
   },
   "file_extension": ".py",
   "mimetype": "text/x-python",
   "name": "python",
   "nbconvert_exporter": "python",
   "pygments_lexer": "ipython3",
   "version": "3.9.7"
  }
 },
 "nbformat": 4,
 "nbformat_minor": 5
}
